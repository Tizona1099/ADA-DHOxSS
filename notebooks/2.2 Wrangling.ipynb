{
 "cells": [
  {
   "attachments": {},
   "cell_type": "markdown",
   "metadata": {},
   "source": [
    "# 2.2 Wrangling"
   ]
  },
  {
   "attachments": {},
   "cell_type": "markdown",
   "metadata": {},
   "source": [
    "In this notebook, we practice with operations on tidy data frames."
   ]
  },
  {
   "cell_type": "code",
   "execution_count": 149,
   "metadata": {},
   "outputs": [],
   "source": [
    "# imports\n",
    "\n",
    "import pandas as pd\n",
    "import json, os, codecs\n",
    "from collections import defaultdict, OrderedDict\n",
    "import seaborn as sns"
   ]
  },
  {
   "attachments": {},
   "cell_type": "markdown",
   "metadata": {},
   "source": [
    "## Import the datasets\n",
    "\n",
    "Let us import sample dataset in memory. They contain different metadata about newspaper titles. One of them contains metadata at the level of articles. A second and third contain different metadata at the higher level of titles. This will be a typical case of data about the same objects scattered across different dfs. "
   ]
  },
  {
   "cell_type": "code",
   "execution_count": 318,
   "metadata": {},
   "outputs": [],
   "source": [
    "root_folder = \"../data/lwmnewspapers/\"\n",
    "df_articles = pd.read_csv(os.path.join(root_folder,\"LwM-HMD-articles.csv\"))\n",
    "df_MPD_links = pd.read_csv(os.path.join(root_folder,\"MPD_links.csv\"))\n",
    "df_wikiid_latlong = pd.read_csv(os.path.join(root_folder,\"wikiid_lat_long.csv\"))"
   ]
  },
  {
   "attachments": {},
   "cell_type": "markdown",
   "metadata": {},
   "source": [
    "## Take a look\n",
    "Let's take another look to the dataset to refresh out memories."
   ]
  },
  {
   "cell_type": "code",
   "execution_count": 319,
   "metadata": {},
   "outputs": [
    {
     "data": {
      "text/html": [
       "<div>\n",
       "<style scoped>\n",
       "    .dataframe tbody tr th:only-of-type {\n",
       "        vertical-align: middle;\n",
       "    }\n",
       "\n",
       "    .dataframe tbody tr th {\n",
       "        vertical-align: top;\n",
       "    }\n",
       "\n",
       "    .dataframe thead th {\n",
       "        text-align: right;\n",
       "    }\n",
       "</style>\n",
       "<table border=\"1\" class=\"dataframe\">\n",
       "  <thead>\n",
       "    <tr style=\"text-align: right;\">\n",
       "      <th></th>\n",
       "      <th>NLP</th>\n",
       "      <th>issue</th>\n",
       "      <th>art_num</th>\n",
       "      <th>title</th>\n",
       "      <th>collection</th>\n",
       "      <th>full_date</th>\n",
       "      <th>year</th>\n",
       "      <th>month</th>\n",
       "      <th>day</th>\n",
       "      <th>location</th>\n",
       "      <th>word_count</th>\n",
       "      <th>ocrquality</th>\n",
       "      <th>decade</th>\n",
       "    </tr>\n",
       "  </thead>\n",
       "  <tbody>\n",
       "    <tr>\n",
       "      <th>0</th>\n",
       "      <td>3077</td>\n",
       "      <td>126</td>\n",
       "      <td>art0037</td>\n",
       "      <td>Nelson Chronicle, Colne Observer, and Clithero...</td>\n",
       "      <td>British Library Living with Machines Project</td>\n",
       "      <td>1894-01-26</td>\n",
       "      <td>1894</td>\n",
       "      <td>1</td>\n",
       "      <td>26</td>\n",
       "      <td>Nelson, Lancashire, England</td>\n",
       "      <td>174</td>\n",
       "      <td>0.8530</td>\n",
       "      <td>1890</td>\n",
       "    </tr>\n",
       "    <tr>\n",
       "      <th>1</th>\n",
       "      <td>3040</td>\n",
       "      <td>326</td>\n",
       "      <td>art0056</td>\n",
       "      <td>The Birkenhead News and Wirral General Adverti...</td>\n",
       "      <td>British Library Living with Machines Project</td>\n",
       "      <td>1887-03-26</td>\n",
       "      <td>1887</td>\n",
       "      <td>3</td>\n",
       "      <td>26</td>\n",
       "      <td>Birkenhead, Merseyside, England</td>\n",
       "      <td>509</td>\n",
       "      <td>0.9844</td>\n",
       "      <td>1880</td>\n",
       "    </tr>\n",
       "  </tbody>\n",
       "</table>\n",
       "</div>"
      ],
      "text/plain": [
       "    NLP  issue  art_num                                              title  \\\n",
       "0  3077    126  art0037  Nelson Chronicle, Colne Observer, and Clithero...   \n",
       "1  3040    326  art0056  The Birkenhead News and Wirral General Adverti...   \n",
       "\n",
       "                                     collection   full_date  year  month  day  \\\n",
       "0  British Library Living with Machines Project  1894-01-26  1894      1   26   \n",
       "1  British Library Living with Machines Project  1887-03-26  1887      3   26   \n",
       "\n",
       "                          location  word_count  ocrquality  decade  \n",
       "0      Nelson, Lancashire, England         174      0.8530    1890  \n",
       "1  Birkenhead, Merseyside, England         509      0.9844    1880  "
      ]
     },
     "execution_count": 319,
     "metadata": {},
     "output_type": "execute_result"
    }
   ],
   "source": [
    "df_articles.head(2)"
   ]
  },
  {
   "cell_type": "code",
   "execution_count": 152,
   "metadata": {},
   "outputs": [
    {
     "data": {
      "text/html": [
       "<div>\n",
       "<style scoped>\n",
       "    .dataframe tbody tr th:only-of-type {\n",
       "        vertical-align: middle;\n",
       "    }\n",
       "\n",
       "    .dataframe tbody tr th {\n",
       "        vertical-align: top;\n",
       "    }\n",
       "\n",
       "    .dataframe thead th {\n",
       "        text-align: right;\n",
       "    }\n",
       "</style>\n",
       "<table border=\"1\" class=\"dataframe\">\n",
       "  <thead>\n",
       "    <tr style=\"text-align: right;\">\n",
       "      <th></th>\n",
       "      <th>NLP</th>\n",
       "      <th>year</th>\n",
       "      <th>wikidata_id</th>\n",
       "      <th>S-PRICE</th>\n",
       "    </tr>\n",
       "  </thead>\n",
       "  <tbody>\n",
       "    <tr>\n",
       "      <th>0</th>\n",
       "      <td>51</td>\n",
       "      <td>1846</td>\n",
       "      <td>Q84</td>\n",
       "      <td>5d</td>\n",
       "    </tr>\n",
       "    <tr>\n",
       "      <th>1</th>\n",
       "      <td>1260</td>\n",
       "      <td>1846</td>\n",
       "      <td>Q84</td>\n",
       "      <td>3 ½</td>\n",
       "    </tr>\n",
       "  </tbody>\n",
       "</table>\n",
       "</div>"
      ],
      "text/plain": [
       "    NLP  year wikidata_id S-PRICE\n",
       "0    51  1846         Q84      5d\n",
       "1  1260  1846         Q84     3 ½"
      ]
     },
     "execution_count": 152,
     "metadata": {},
     "output_type": "execute_result"
    }
   ],
   "source": [
    "df_MPD_links.head(2)"
   ]
  },
  {
   "cell_type": "code",
   "execution_count": 153,
   "metadata": {},
   "outputs": [
    {
     "data": {
      "text/html": [
       "<div>\n",
       "<style scoped>\n",
       "    .dataframe tbody tr th:only-of-type {\n",
       "        vertical-align: middle;\n",
       "    }\n",
       "\n",
       "    .dataframe tbody tr th {\n",
       "        vertical-align: top;\n",
       "    }\n",
       "\n",
       "    .dataframe thead th {\n",
       "        text-align: right;\n",
       "    }\n",
       "</style>\n",
       "<table border=\"1\" class=\"dataframe\">\n",
       "  <thead>\n",
       "    <tr style=\"text-align: right;\">\n",
       "      <th></th>\n",
       "      <th>wikidata_id</th>\n",
       "      <th>latitude</th>\n",
       "      <th>longitude</th>\n",
       "    </tr>\n",
       "  </thead>\n",
       "  <tbody>\n",
       "    <tr>\n",
       "      <th>0</th>\n",
       "      <td>Q84</td>\n",
       "      <td>51.507222</td>\n",
       "      <td>-0.1275</td>\n",
       "    </tr>\n",
       "    <tr>\n",
       "      <th>1</th>\n",
       "      <td>Q84</td>\n",
       "      <td>51.507222</td>\n",
       "      <td>-0.1275</td>\n",
       "    </tr>\n",
       "    <tr>\n",
       "      <th>2</th>\n",
       "      <td>Q84</td>\n",
       "      <td>51.507222</td>\n",
       "      <td>-0.1275</td>\n",
       "    </tr>\n",
       "    <tr>\n",
       "      <th>3</th>\n",
       "      <td>Q84</td>\n",
       "      <td>51.507222</td>\n",
       "      <td>-0.1275</td>\n",
       "    </tr>\n",
       "    <tr>\n",
       "      <th>4</th>\n",
       "      <td>Q84</td>\n",
       "      <td>51.507222</td>\n",
       "      <td>-0.1275</td>\n",
       "    </tr>\n",
       "  </tbody>\n",
       "</table>\n",
       "</div>"
      ],
      "text/plain": [
       "  wikidata_id   latitude  longitude\n",
       "0         Q84  51.507222    -0.1275\n",
       "1         Q84  51.507222    -0.1275\n",
       "2         Q84  51.507222    -0.1275\n",
       "3         Q84  51.507222    -0.1275\n",
       "4         Q84  51.507222    -0.1275"
      ]
     },
     "execution_count": 153,
     "metadata": {},
     "output_type": "execute_result"
    }
   ],
   "source": [
    "df_wikiid_latlong.head(5)"
   ]
  },
  {
   "cell_type": "code",
   "execution_count": 320,
   "metadata": {},
   "outputs": [
    {
     "data": {
      "text/plain": [
       "(100, 13)"
      ]
     },
     "execution_count": 320,
     "metadata": {},
     "output_type": "execute_result"
    }
   ],
   "source": [
    "df_articles.shape"
   ]
  },
  {
   "cell_type": "code",
   "execution_count": 321,
   "metadata": {},
   "outputs": [
    {
     "data": {
      "text/plain": [
       "(9124, 4)"
      ]
     },
     "execution_count": 321,
     "metadata": {},
     "output_type": "execute_result"
    }
   ],
   "source": [
    "df_MPD_links.shape"
   ]
  },
  {
   "cell_type": "code",
   "execution_count": 156,
   "metadata": {},
   "outputs": [
    {
     "data": {
      "text/plain": [
       "(9124, 3)"
      ]
     },
     "execution_count": 156,
     "metadata": {},
     "output_type": "execute_result"
    }
   ],
   "source": [
    "df_wikiid_latlong.shape"
   ]
  },
  {
   "cell_type": "code",
   "execution_count": 262,
   "metadata": {},
   "outputs": [],
   "source": [
    "# let's create a few smaller datasets to play with transformations, via selection\n",
    "\n",
    "df_articles_93 = df_articles[df_articles[\"year\"] == 1893]\n",
    "df_articles_87 = df_articles[df_articles[\"year\"] == 1887]"
   ]
  },
  {
   "cell_type": "code",
   "execution_count": 263,
   "metadata": {},
   "outputs": [
    {
     "data": {
      "text/plain": [
       "(148198, 13)"
      ]
     },
     "execution_count": 263,
     "metadata": {},
     "output_type": "execute_result"
    }
   ],
   "source": [
    "df_articles_93.shape"
   ]
  },
  {
   "cell_type": "code",
   "execution_count": 264,
   "metadata": {},
   "outputs": [
    {
     "data": {
      "text/plain": [
       "(68438, 13)"
      ]
     },
     "execution_count": 264,
     "metadata": {},
     "output_type": "execute_result"
    }
   ],
   "source": [
    "df_articles_87.shape"
   ]
  },
  {
   "cell_type": "code",
   "execution_count": 265,
   "metadata": {},
   "outputs": [
    {
     "data": {
      "text/html": [
       "<div>\n",
       "<style scoped>\n",
       "    .dataframe tbody tr th:only-of-type {\n",
       "        vertical-align: middle;\n",
       "    }\n",
       "\n",
       "    .dataframe tbody tr th {\n",
       "        vertical-align: top;\n",
       "    }\n",
       "\n",
       "    .dataframe thead th {\n",
       "        text-align: right;\n",
       "    }\n",
       "</style>\n",
       "<table border=\"1\" class=\"dataframe\">\n",
       "  <thead>\n",
       "    <tr style=\"text-align: right;\">\n",
       "      <th></th>\n",
       "      <th>NLP</th>\n",
       "      <th>issue</th>\n",
       "      <th>art_num</th>\n",
       "      <th>title</th>\n",
       "      <th>collection</th>\n",
       "      <th>full_date</th>\n",
       "      <th>year</th>\n",
       "      <th>month</th>\n",
       "      <th>day</th>\n",
       "      <th>location</th>\n",
       "      <th>word_count</th>\n",
       "      <th>ocrquality</th>\n",
       "      <th>decade</th>\n",
       "    </tr>\n",
       "  </thead>\n",
       "  <tbody>\n",
       "    <tr>\n",
       "      <th>0</th>\n",
       "      <td>2596</td>\n",
       "      <td>1215</td>\n",
       "      <td>art0089</td>\n",
       "      <td>The Cotton Factory Times.</td>\n",
       "      <td>British Library Living with Machines Project</td>\n",
       "      <td>1893-12-15</td>\n",
       "      <td>1893</td>\n",
       "      <td>12</td>\n",
       "      <td>15</td>\n",
       "      <td>Manchester, Greater Manchester, England</td>\n",
       "      <td>3</td>\n",
       "      <td>0.5533</td>\n",
       "      <td>1890</td>\n",
       "    </tr>\n",
       "    <tr>\n",
       "      <th>1</th>\n",
       "      <td>2596</td>\n",
       "      <td>1215</td>\n",
       "      <td>art0005</td>\n",
       "      <td>The Cotton Factory Times.</td>\n",
       "      <td>British Library Living with Machines Project</td>\n",
       "      <td>1893-12-15</td>\n",
       "      <td>1893</td>\n",
       "      <td>12</td>\n",
       "      <td>15</td>\n",
       "      <td>Manchester, Greater Manchester, England</td>\n",
       "      <td>7</td>\n",
       "      <td>0.5200</td>\n",
       "      <td>1890</td>\n",
       "    </tr>\n",
       "  </tbody>\n",
       "</table>\n",
       "</div>"
      ],
      "text/plain": [
       "    NLP  issue  art_num                      title  \\\n",
       "0  2596   1215  art0089  The Cotton Factory Times.   \n",
       "1  2596   1215  art0005  The Cotton Factory Times.   \n",
       "\n",
       "                                     collection   full_date  year  month  day  \\\n",
       "0  British Library Living with Machines Project  1893-12-15  1893     12   15   \n",
       "1  British Library Living with Machines Project  1893-12-15  1893     12   15   \n",
       "\n",
       "                                  location  word_count  ocrquality  decade  \n",
       "0  Manchester, Greater Manchester, England           3      0.5533    1890  \n",
       "1  Manchester, Greater Manchester, England           7      0.5200    1890  "
      ]
     },
     "execution_count": 265,
     "metadata": {},
     "output_type": "execute_result"
    }
   ],
   "source": [
    "df_articles_93.head(2)"
   ]
  },
  {
   "cell_type": "code",
   "execution_count": 266,
   "metadata": {},
   "outputs": [
    {
     "data": {
      "text/html": [
       "<div>\n",
       "<style scoped>\n",
       "    .dataframe tbody tr th:only-of-type {\n",
       "        vertical-align: middle;\n",
       "    }\n",
       "\n",
       "    .dataframe tbody tr th {\n",
       "        vertical-align: top;\n",
       "    }\n",
       "\n",
       "    .dataframe thead th {\n",
       "        text-align: right;\n",
       "    }\n",
       "</style>\n",
       "<table border=\"1\" class=\"dataframe\">\n",
       "  <thead>\n",
       "    <tr style=\"text-align: right;\">\n",
       "      <th></th>\n",
       "      <th>NLP</th>\n",
       "      <th>issue</th>\n",
       "      <th>art_num</th>\n",
       "      <th>title</th>\n",
       "      <th>collection</th>\n",
       "      <th>full_date</th>\n",
       "      <th>year</th>\n",
       "      <th>month</th>\n",
       "      <th>day</th>\n",
       "      <th>location</th>\n",
       "      <th>word_count</th>\n",
       "      <th>ocrquality</th>\n",
       "      <th>decade</th>\n",
       "    </tr>\n",
       "  </thead>\n",
       "  <tbody>\n",
       "    <tr>\n",
       "      <th>8900</th>\n",
       "      <td>2596</td>\n",
       "      <td>819</td>\n",
       "      <td>art0030</td>\n",
       "      <td>The Cotton Factory Times.</td>\n",
       "      <td>British Library Living with Machines Project</td>\n",
       "      <td>1887-08-19</td>\n",
       "      <td>1887</td>\n",
       "      <td>8</td>\n",
       "      <td>19</td>\n",
       "      <td>Manchester, Greater Manchester, England</td>\n",
       "      <td>10</td>\n",
       "      <td>0.8460</td>\n",
       "      <td>1880</td>\n",
       "    </tr>\n",
       "    <tr>\n",
       "      <th>8901</th>\n",
       "      <td>2596</td>\n",
       "      <td>819</td>\n",
       "      <td>art0097</td>\n",
       "      <td>The Cotton Factory Times.</td>\n",
       "      <td>British Library Living with Machines Project</td>\n",
       "      <td>1887-08-19</td>\n",
       "      <td>1887</td>\n",
       "      <td>8</td>\n",
       "      <td>19</td>\n",
       "      <td>Manchester, Greater Manchester, England</td>\n",
       "      <td>13</td>\n",
       "      <td>0.8315</td>\n",
       "      <td>1880</td>\n",
       "    </tr>\n",
       "  </tbody>\n",
       "</table>\n",
       "</div>"
      ],
      "text/plain": [
       "       NLP  issue  art_num                      title  \\\n",
       "8900  2596    819  art0030  The Cotton Factory Times.   \n",
       "8901  2596    819  art0097  The Cotton Factory Times.   \n",
       "\n",
       "                                        collection   full_date  year  month  \\\n",
       "8900  British Library Living with Machines Project  1887-08-19  1887      8   \n",
       "8901  British Library Living with Machines Project  1887-08-19  1887      8   \n",
       "\n",
       "      day                                 location  word_count  ocrquality  \\\n",
       "8900   19  Manchester, Greater Manchester, England          10      0.8460   \n",
       "8901   19  Manchester, Greater Manchester, England          13      0.8315   \n",
       "\n",
       "      decade  \n",
       "8900    1880  \n",
       "8901    1880  "
      ]
     },
     "execution_count": 266,
     "metadata": {},
     "output_type": "execute_result"
    }
   ],
   "source": [
    "df_articles_87.head(2)"
   ]
  },
  {
   "attachments": {},
   "cell_type": "markdown",
   "metadata": {},
   "source": [
    "Note that the index of the original df is maintained, unless you specify to reset the index at the time of subsetting or merging dataframes (not specifying `drop=True` would keep the original index as a new column `index`):"
   ]
  },
  {
   "cell_type": "code",
   "execution_count": 292,
   "metadata": {},
   "outputs": [
    {
     "data": {
      "text/html": [
       "<div>\n",
       "<style scoped>\n",
       "    .dataframe tbody tr th:only-of-type {\n",
       "        vertical-align: middle;\n",
       "    }\n",
       "\n",
       "    .dataframe tbody tr th {\n",
       "        vertical-align: top;\n",
       "    }\n",
       "\n",
       "    .dataframe thead th {\n",
       "        text-align: right;\n",
       "    }\n",
       "</style>\n",
       "<table border=\"1\" class=\"dataframe\">\n",
       "  <thead>\n",
       "    <tr style=\"text-align: right;\">\n",
       "      <th></th>\n",
       "      <th>NLP</th>\n",
       "      <th>issue</th>\n",
       "      <th>art_num</th>\n",
       "      <th>title</th>\n",
       "      <th>collection</th>\n",
       "      <th>full_date</th>\n",
       "      <th>year</th>\n",
       "      <th>month</th>\n",
       "      <th>day</th>\n",
       "      <th>location</th>\n",
       "      <th>word_count</th>\n",
       "      <th>ocrquality</th>\n",
       "      <th>decade</th>\n",
       "    </tr>\n",
       "  </thead>\n",
       "  <tbody>\n",
       "    <tr>\n",
       "      <th>0</th>\n",
       "      <td>2596</td>\n",
       "      <td>819</td>\n",
       "      <td>art0030</td>\n",
       "      <td>The Cotton Factory Times.</td>\n",
       "      <td>British Library Living with Machines Project</td>\n",
       "      <td>1887-08-19</td>\n",
       "      <td>1887</td>\n",
       "      <td>8</td>\n",
       "      <td>19</td>\n",
       "      <td>Manchester, Greater Manchester, England</td>\n",
       "      <td>10</td>\n",
       "      <td>0.8460</td>\n",
       "      <td>1880</td>\n",
       "    </tr>\n",
       "    <tr>\n",
       "      <th>1</th>\n",
       "      <td>2596</td>\n",
       "      <td>819</td>\n",
       "      <td>art0097</td>\n",
       "      <td>The Cotton Factory Times.</td>\n",
       "      <td>British Library Living with Machines Project</td>\n",
       "      <td>1887-08-19</td>\n",
       "      <td>1887</td>\n",
       "      <td>8</td>\n",
       "      <td>19</td>\n",
       "      <td>Manchester, Greater Manchester, England</td>\n",
       "      <td>13</td>\n",
       "      <td>0.8315</td>\n",
       "      <td>1880</td>\n",
       "    </tr>\n",
       "  </tbody>\n",
       "</table>\n",
       "</div>"
      ],
      "text/plain": [
       "    NLP  issue  art_num                      title  \\\n",
       "0  2596    819  art0030  The Cotton Factory Times.   \n",
       "1  2596    819  art0097  The Cotton Factory Times.   \n",
       "\n",
       "                                     collection   full_date  year  month  day  \\\n",
       "0  British Library Living with Machines Project  1887-08-19  1887      8   19   \n",
       "1  British Library Living with Machines Project  1887-08-19  1887      8   19   \n",
       "\n",
       "                                  location  word_count  ocrquality  decade  \n",
       "0  Manchester, Greater Manchester, England          10      0.8460    1880  \n",
       "1  Manchester, Greater Manchester, England          13      0.8315    1880  "
      ]
     },
     "execution_count": 292,
     "metadata": {},
     "output_type": "execute_result"
    }
   ],
   "source": [
    "df_articles_93 = df_articles[df_articles[\"year\"] == 1893].reset_index(drop=True)\n",
    "df_articles_87 = df_articles[df_articles[\"year\"] == 1887].reset_index(drop=True)\n",
    "df_articles_87.head(2)"
   ]
  },
  {
   "attachments": {},
   "cell_type": "markdown",
   "metadata": {},
   "source": [
    "## Set operations"
   ]
  },
  {
   "cell_type": "code",
   "execution_count": 200,
   "metadata": {},
   "outputs": [
    {
     "data": {
      "text/plain": [
       "array(['Manchester, Greater Manchester, England',\n",
       "       'Widnes, Cheshire, England', 'Denton, Greater Manchester, England',\n",
       "       'Stourbridge, West Midlands, England',\n",
       "       'Stockton-on-Tees, Cleveland, England',\n",
       "       'Weymouth, Dorset, England', 'Swansea, West Glamorgan, Wales',\n",
       "       'Birkenhead, Merseyside, England',\n",
       "       'Atherstone, Warwickshire, England',\n",
       "       'Birmingham, West Midlands, England',\n",
       "       'Bridgend, Mid Glamorgan, Wales',\n",
       "       'Bridlington, Humberside, England',\n",
       "       'Brighouse, West Yorkshire, England'], dtype=object)"
      ]
     },
     "execution_count": 200,
     "metadata": {},
     "output_type": "execute_result"
    }
   ],
   "source": [
    "df_articles_87['location'].unique()"
   ]
  },
  {
   "attachments": {},
   "cell_type": "markdown",
   "metadata": {},
   "source": [
    "or:"
   ]
  },
  {
   "cell_type": "code",
   "execution_count": 201,
   "metadata": {},
   "outputs": [
    {
     "data": {
      "text/plain": [
       "{'Atherstone, Warwickshire, England',\n",
       " 'Birkenhead, Merseyside, England',\n",
       " 'Birmingham, West Midlands, England',\n",
       " 'Bridgend, Mid Glamorgan, Wales',\n",
       " 'Bridlington, Humberside, England',\n",
       " 'Brighouse, West Yorkshire, England',\n",
       " 'Denton, Greater Manchester, England',\n",
       " 'Manchester, Greater Manchester, England',\n",
       " 'Stockton-on-Tees, Cleveland, England',\n",
       " 'Stourbridge, West Midlands, England',\n",
       " 'Swansea, West Glamorgan, Wales',\n",
       " 'Weymouth, Dorset, England',\n",
       " 'Widnes, Cheshire, England'}"
      ]
     },
     "execution_count": 201,
     "metadata": {},
     "output_type": "execute_result"
    }
   ],
   "source": [
    "set(df_articles_87['location'])"
   ]
  },
  {
   "attachments": {},
   "cell_type": "markdown",
   "metadata": {},
   "source": [
    "As a Python refresher on sets vs lists:"
   ]
  },
  {
   "cell_type": "code",
   "execution_count": 205,
   "metadata": {},
   "outputs": [
    {
     "data": {
      "text/plain": [
       "{'aa', 'abc', 'bb'}"
      ]
     },
     "execution_count": 205,
     "metadata": {},
     "output_type": "execute_result"
    }
   ],
   "source": [
    "A = set(['aa', 'abc', 'bb', 'aa'])\n",
    "A"
   ]
  },
  {
   "cell_type": "code",
   "execution_count": 206,
   "metadata": {},
   "outputs": [],
   "source": [
    "A = set([1,2,3,4,4,5])\n",
    "B = set([1,2,3,4,4,5,7,8,9])"
   ]
  },
  {
   "cell_type": "code",
   "execution_count": 207,
   "metadata": {},
   "outputs": [
    {
     "data": {
      "text/plain": [
       "{1, 2, 3, 4, 5}"
      ]
     },
     "execution_count": 207,
     "metadata": {},
     "output_type": "execute_result"
    }
   ],
   "source": [
    "A"
   ]
  },
  {
   "cell_type": "code",
   "execution_count": 208,
   "metadata": {},
   "outputs": [
    {
     "data": {
      "text/plain": [
       "{1, 2, 3, 4, 5, 7, 8, 9}"
      ]
     },
     "execution_count": 208,
     "metadata": {},
     "output_type": "execute_result"
    }
   ],
   "source": [
    "B"
   ]
  },
  {
   "cell_type": "code",
   "execution_count": 209,
   "metadata": {},
   "outputs": [
    {
     "name": "stdout",
     "output_type": "stream",
     "text": [
      "{1, 2, 3, 4, 5, 7, 8, 9}\n"
     ]
    }
   ],
   "source": [
    "print(A.union(B))"
   ]
  },
  {
   "cell_type": "code",
   "execution_count": 210,
   "metadata": {},
   "outputs": [
    {
     "name": "stdout",
     "output_type": "stream",
     "text": [
      "set()\n"
     ]
    }
   ],
   "source": [
    "print(A.difference(B))"
   ]
  },
  {
   "cell_type": "code",
   "execution_count": 211,
   "metadata": {},
   "outputs": [
    {
     "name": "stdout",
     "output_type": "stream",
     "text": [
      "{8, 9, 7}\n"
     ]
    }
   ],
   "source": [
    "print(B.difference(A))"
   ]
  },
  {
   "cell_type": "code",
   "execution_count": 212,
   "metadata": {},
   "outputs": [
    {
     "name": "stdout",
     "output_type": "stream",
     "text": [
      "{1, 2, 3, 4, 5}\n"
     ]
    }
   ],
   "source": [
    "print(A.intersection(B))"
   ]
  },
  {
   "attachments": {},
   "cell_type": "markdown",
   "metadata": {},
   "source": [
    "### Projection"
   ]
  },
  {
   "cell_type": "code",
   "execution_count": 214,
   "metadata": {},
   "outputs": [
    {
     "data": {
      "text/html": [
       "<div>\n",
       "<style scoped>\n",
       "    .dataframe tbody tr th:only-of-type {\n",
       "        vertical-align: middle;\n",
       "    }\n",
       "\n",
       "    .dataframe tbody tr th {\n",
       "        vertical-align: top;\n",
       "    }\n",
       "\n",
       "    .dataframe thead th {\n",
       "        text-align: right;\n",
       "    }\n",
       "</style>\n",
       "<table border=\"1\" class=\"dataframe\">\n",
       "  <thead>\n",
       "    <tr style=\"text-align: right;\">\n",
       "      <th></th>\n",
       "      <th>NLP</th>\n",
       "      <th>year</th>\n",
       "    </tr>\n",
       "  </thead>\n",
       "  <tbody>\n",
       "    <tr>\n",
       "      <th>0</th>\n",
       "      <td>2596</td>\n",
       "      <td>1893</td>\n",
       "    </tr>\n",
       "    <tr>\n",
       "      <th>1</th>\n",
       "      <td>2596</td>\n",
       "      <td>1893</td>\n",
       "    </tr>\n",
       "    <tr>\n",
       "      <th>2</th>\n",
       "      <td>2596</td>\n",
       "      <td>1893</td>\n",
       "    </tr>\n",
       "    <tr>\n",
       "      <th>3</th>\n",
       "      <td>2596</td>\n",
       "      <td>1893</td>\n",
       "    </tr>\n",
       "    <tr>\n",
       "      <th>4</th>\n",
       "      <td>2596</td>\n",
       "      <td>1893</td>\n",
       "    </tr>\n",
       "    <tr>\n",
       "      <th>5</th>\n",
       "      <td>2596</td>\n",
       "      <td>1893</td>\n",
       "    </tr>\n",
       "    <tr>\n",
       "      <th>6</th>\n",
       "      <td>2596</td>\n",
       "      <td>1893</td>\n",
       "    </tr>\n",
       "    <tr>\n",
       "      <th>7</th>\n",
       "      <td>2596</td>\n",
       "      <td>1893</td>\n",
       "    </tr>\n",
       "    <tr>\n",
       "      <th>8</th>\n",
       "      <td>2596</td>\n",
       "      <td>1893</td>\n",
       "    </tr>\n",
       "    <tr>\n",
       "      <th>9</th>\n",
       "      <td>2596</td>\n",
       "      <td>1893</td>\n",
       "    </tr>\n",
       "  </tbody>\n",
       "</table>\n",
       "</div>"
      ],
      "text/plain": [
       "    NLP  year\n",
       "0  2596  1893\n",
       "1  2596  1893\n",
       "2  2596  1893\n",
       "3  2596  1893\n",
       "4  2596  1893\n",
       "5  2596  1893\n",
       "6  2596  1893\n",
       "7  2596  1893\n",
       "8  2596  1893\n",
       "9  2596  1893"
      ]
     },
     "execution_count": 214,
     "metadata": {},
     "output_type": "execute_result"
    }
   ],
   "source": [
    "df_articles[[\"NLP\",\"year\"]].head(10)"
   ]
  },
  {
   "attachments": {},
   "cell_type": "markdown",
   "metadata": {},
   "source": [
    "### Union"
   ]
  },
  {
   "cell_type": "code",
   "execution_count": 267,
   "metadata": {},
   "outputs": [],
   "source": [
    "df_temp = pd.concat([df_articles_87, df_articles_93])"
   ]
  },
  {
   "cell_type": "code",
   "execution_count": 268,
   "metadata": {},
   "outputs": [
    {
     "data": {
      "text/plain": [
       "(216636, 13)"
      ]
     },
     "execution_count": 268,
     "metadata": {},
     "output_type": "execute_result"
    }
   ],
   "source": [
    "df_temp.shape"
   ]
  },
  {
   "attachments": {},
   "cell_type": "markdown",
   "metadata": {},
   "source": [
    "### Difference"
   ]
  },
  {
   "cell_type": "code",
   "execution_count": 285,
   "metadata": {},
   "outputs": [
    {
     "data": {
      "text/plain": [
       "location\n",
       "True     44447\n",
       "False    23991\n",
       "Name: count, dtype: int64"
      ]
     },
     "execution_count": 285,
     "metadata": {},
     "output_type": "execute_result"
    }
   ],
   "source": [
    "df_articles_87['location'].isin(df_articles_93['location']).value_counts()"
   ]
  },
  {
   "cell_type": "code",
   "execution_count": 288,
   "metadata": {},
   "outputs": [
    {
     "data": {
      "text/plain": [
       "(68438, 13)"
      ]
     },
     "execution_count": 288,
     "metadata": {},
     "output_type": "execute_result"
    }
   ],
   "source": [
    "df_articles_87.shape"
   ]
  },
  {
   "cell_type": "code",
   "execution_count": 289,
   "metadata": {},
   "outputs": [
    {
     "data": {
      "text/plain": [
       "(44447, 13)"
      ]
     },
     "execution_count": 289,
     "metadata": {},
     "output_type": "execute_result"
    }
   ],
   "source": [
    "df_articles_87[df_articles_87['location'].isin(df_articles_93['location'])].shape"
   ]
  },
  {
   "cell_type": "code",
   "execution_count": 290,
   "metadata": {},
   "outputs": [
    {
     "data": {
      "text/plain": [
       "(23991, 13)"
      ]
     },
     "execution_count": 290,
     "metadata": {},
     "output_type": "execute_result"
    }
   ],
   "source": [
    "df_articles_87[~df_articles_87['location'].isin(df_articles_93['location'])].shape"
   ]
  },
  {
   "cell_type": "code",
   "execution_count": 291,
   "metadata": {},
   "outputs": [
    {
     "data": {
      "text/plain": [
       "(0, 13)"
      ]
     },
     "execution_count": 291,
     "metadata": {},
     "output_type": "execute_result"
    }
   ],
   "source": [
    "df_articles_87[~df_articles_87['location'].isin(df_articles_87['location'])].shape"
   ]
  },
  {
   "attachments": {},
   "cell_type": "markdown",
   "metadata": {},
   "source": [
    "### Intersection"
   ]
  },
  {
   "cell_type": "code",
   "execution_count": 188,
   "metadata": {},
   "outputs": [
    {
     "data": {
      "text/plain": [
       "(32, 12)"
      ]
     },
     "execution_count": 188,
     "metadata": {},
     "output_type": "execute_result"
    }
   ],
   "source": [
    "pd.merge(right=df_book_tragedy, left=df_book_tragedy, how=\"inner\").shape"
   ]
  },
  {
   "cell_type": "code",
   "execution_count": 189,
   "metadata": {},
   "outputs": [
    {
     "data": {
      "text/plain": [
       "(0, 12)"
      ]
     },
     "execution_count": 189,
     "metadata": {},
     "output_type": "execute_result"
    }
   ],
   "source": [
    "pd.merge(right=df_book_tragedy, left=df_book_comedy, how=\"inner\").shape"
   ]
  },
  {
   "attachments": {},
   "cell_type": "markdown",
   "metadata": {},
   "source": [
    "## Joins"
   ]
  },
  {
   "attachments": {},
   "cell_type": "markdown",
   "metadata": {},
   "source": [
    "![figure with joins](https://www.datasciencemadesimple.com/wp-content/uploads/2017/09/join-or-merge-in-python-pandas-1.png?ezimgfmt=ng:webp/ngcb1)\n",
    "\n",
    "- **Inner Join** or Natural join: To keep only rows that match from the data frames, specify the argument `how=‘inner’`.\n",
    "- **Outer Join** or Full outer join:To keep all rows from both data frames, specify `how=‘outer’`.\n",
    "- **Left Join** or Left outer join:To include all the rows of your data frame x and only those from y that match, specify `how=‘left’`.\n",
    "- **Right Join** or Right outer join:To include all the rows of your data frame y and only those from x that match, specify `how=‘right’`."
   ]
  },
  {
   "cell_type": "code",
   "execution_count": 293,
   "metadata": {},
   "outputs": [
    {
     "data": {
      "text/plain": [
       "(2019676, 13)"
      ]
     },
     "execution_count": 293,
     "metadata": {},
     "output_type": "execute_result"
    }
   ],
   "source": [
    "df_articles.shape"
   ]
  },
  {
   "cell_type": "code",
   "execution_count": 294,
   "metadata": {},
   "outputs": [
    {
     "data": {
      "text/plain": [
       "(9124, 4)"
      ]
     },
     "execution_count": 294,
     "metadata": {},
     "output_type": "execute_result"
    }
   ],
   "source": [
    "df_MPD_links.shape"
   ]
  },
  {
   "cell_type": "code",
   "execution_count": 295,
   "metadata": {},
   "outputs": [
    {
     "data": {
      "text/plain": [
       "(9124, 3)"
      ]
     },
     "execution_count": 295,
     "metadata": {},
     "output_type": "execute_result"
    }
   ],
   "source": [
    "df_wikiid_latlong.shape"
   ]
  },
  {
   "cell_type": "code",
   "execution_count": 298,
   "metadata": {},
   "outputs": [
    {
     "data": {
      "text/html": [
       "<div>\n",
       "<style scoped>\n",
       "    .dataframe tbody tr th:only-of-type {\n",
       "        vertical-align: middle;\n",
       "    }\n",
       "\n",
       "    .dataframe tbody tr th {\n",
       "        vertical-align: top;\n",
       "    }\n",
       "\n",
       "    .dataframe thead th {\n",
       "        text-align: right;\n",
       "    }\n",
       "</style>\n",
       "<table border=\"1\" class=\"dataframe\">\n",
       "  <thead>\n",
       "    <tr style=\"text-align: right;\">\n",
       "      <th></th>\n",
       "      <th>NLP</th>\n",
       "      <th>issue</th>\n",
       "      <th>art_num</th>\n",
       "      <th>title</th>\n",
       "      <th>collection</th>\n",
       "      <th>full_date</th>\n",
       "      <th>year</th>\n",
       "      <th>month</th>\n",
       "      <th>day</th>\n",
       "      <th>location</th>\n",
       "      <th>word_count</th>\n",
       "      <th>ocrquality</th>\n",
       "      <th>decade</th>\n",
       "    </tr>\n",
       "  </thead>\n",
       "  <tbody>\n",
       "    <tr>\n",
       "      <th>0</th>\n",
       "      <td>2596</td>\n",
       "      <td>1215</td>\n",
       "      <td>art0089</td>\n",
       "      <td>The Cotton Factory Times.</td>\n",
       "      <td>British Library Living with Machines Project</td>\n",
       "      <td>1893-12-15</td>\n",
       "      <td>1893</td>\n",
       "      <td>12</td>\n",
       "      <td>15</td>\n",
       "      <td>Manchester, Greater Manchester, England</td>\n",
       "      <td>3</td>\n",
       "      <td>0.5533</td>\n",
       "      <td>1890</td>\n",
       "    </tr>\n",
       "    <tr>\n",
       "      <th>1</th>\n",
       "      <td>2596</td>\n",
       "      <td>1215</td>\n",
       "      <td>art0005</td>\n",
       "      <td>The Cotton Factory Times.</td>\n",
       "      <td>British Library Living with Machines Project</td>\n",
       "      <td>1893-12-15</td>\n",
       "      <td>1893</td>\n",
       "      <td>12</td>\n",
       "      <td>15</td>\n",
       "      <td>Manchester, Greater Manchester, England</td>\n",
       "      <td>7</td>\n",
       "      <td>0.5200</td>\n",
       "      <td>1890</td>\n",
       "    </tr>\n",
       "  </tbody>\n",
       "</table>\n",
       "</div>"
      ],
      "text/plain": [
       "    NLP  issue  art_num                      title  \\\n",
       "0  2596   1215  art0089  The Cotton Factory Times.   \n",
       "1  2596   1215  art0005  The Cotton Factory Times.   \n",
       "\n",
       "                                     collection   full_date  year  month  day  \\\n",
       "0  British Library Living with Machines Project  1893-12-15  1893     12   15   \n",
       "1  British Library Living with Machines Project  1893-12-15  1893     12   15   \n",
       "\n",
       "                                  location  word_count  ocrquality  decade  \n",
       "0  Manchester, Greater Manchester, England           3      0.5533    1890  \n",
       "1  Manchester, Greater Manchester, England           7      0.5200    1890  "
      ]
     },
     "execution_count": 298,
     "metadata": {},
     "output_type": "execute_result"
    }
   ],
   "source": [
    "df_articles.head(2)"
   ]
  },
  {
   "cell_type": "code",
   "execution_count": 297,
   "metadata": {},
   "outputs": [
    {
     "data": {
      "text/html": [
       "<div>\n",
       "<style scoped>\n",
       "    .dataframe tbody tr th:only-of-type {\n",
       "        vertical-align: middle;\n",
       "    }\n",
       "\n",
       "    .dataframe tbody tr th {\n",
       "        vertical-align: top;\n",
       "    }\n",
       "\n",
       "    .dataframe thead th {\n",
       "        text-align: right;\n",
       "    }\n",
       "</style>\n",
       "<table border=\"1\" class=\"dataframe\">\n",
       "  <thead>\n",
       "    <tr style=\"text-align: right;\">\n",
       "      <th></th>\n",
       "      <th>NLP</th>\n",
       "      <th>year</th>\n",
       "      <th>wikidata_id</th>\n",
       "      <th>S-PRICE</th>\n",
       "    </tr>\n",
       "  </thead>\n",
       "  <tbody>\n",
       "    <tr>\n",
       "      <th>0</th>\n",
       "      <td>51</td>\n",
       "      <td>1846</td>\n",
       "      <td>Q84</td>\n",
       "      <td>5d</td>\n",
       "    </tr>\n",
       "    <tr>\n",
       "      <th>1</th>\n",
       "      <td>1260</td>\n",
       "      <td>1846</td>\n",
       "      <td>Q84</td>\n",
       "      <td>3 ½</td>\n",
       "    </tr>\n",
       "  </tbody>\n",
       "</table>\n",
       "</div>"
      ],
      "text/plain": [
       "    NLP  year wikidata_id S-PRICE\n",
       "0    51  1846         Q84      5d\n",
       "1  1260  1846         Q84     3 ½"
      ]
     },
     "execution_count": 297,
     "metadata": {},
     "output_type": "execute_result"
    }
   ],
   "source": [
    "df_MPD_links.head(2)"
   ]
  },
  {
   "attachments": {},
   "cell_type": "markdown",
   "metadata": {},
   "source": [
    "The two dfs have two columns in common: `NLP` and `year`. To add any column in `metadf` which is not in `articlesdf` to `articlesdf` based on a match of both `NLP` and `year`, you simply do a left-merge:"
   ]
  },
  {
   "cell_type": "code",
   "execution_count": 299,
   "metadata": {},
   "outputs": [
    {
     "data": {
      "text/html": [
       "<div>\n",
       "<style scoped>\n",
       "    .dataframe tbody tr th:only-of-type {\n",
       "        vertical-align: middle;\n",
       "    }\n",
       "\n",
       "    .dataframe tbody tr th {\n",
       "        vertical-align: top;\n",
       "    }\n",
       "\n",
       "    .dataframe thead th {\n",
       "        text-align: right;\n",
       "    }\n",
       "</style>\n",
       "<table border=\"1\" class=\"dataframe\">\n",
       "  <thead>\n",
       "    <tr style=\"text-align: right;\">\n",
       "      <th></th>\n",
       "      <th>NLP</th>\n",
       "      <th>issue</th>\n",
       "      <th>art_num</th>\n",
       "      <th>title</th>\n",
       "      <th>collection</th>\n",
       "      <th>full_date</th>\n",
       "      <th>year</th>\n",
       "      <th>month</th>\n",
       "      <th>day</th>\n",
       "      <th>location</th>\n",
       "      <th>word_count</th>\n",
       "      <th>ocrquality</th>\n",
       "      <th>decade</th>\n",
       "    </tr>\n",
       "  </thead>\n",
       "  <tbody>\n",
       "    <tr>\n",
       "      <th>0</th>\n",
       "      <td>2596</td>\n",
       "      <td>1215</td>\n",
       "      <td>art0089</td>\n",
       "      <td>The Cotton Factory Times.</td>\n",
       "      <td>British Library Living with Machines Project</td>\n",
       "      <td>1893-12-15</td>\n",
       "      <td>1893</td>\n",
       "      <td>12</td>\n",
       "      <td>15</td>\n",
       "      <td>Manchester, Greater Manchester, England</td>\n",
       "      <td>3</td>\n",
       "      <td>0.5533</td>\n",
       "      <td>1890</td>\n",
       "    </tr>\n",
       "    <tr>\n",
       "      <th>1</th>\n",
       "      <td>2596</td>\n",
       "      <td>1215</td>\n",
       "      <td>art0005</td>\n",
       "      <td>The Cotton Factory Times.</td>\n",
       "      <td>British Library Living with Machines Project</td>\n",
       "      <td>1893-12-15</td>\n",
       "      <td>1893</td>\n",
       "      <td>12</td>\n",
       "      <td>15</td>\n",
       "      <td>Manchester, Greater Manchester, England</td>\n",
       "      <td>7</td>\n",
       "      <td>0.5200</td>\n",
       "      <td>1890</td>\n",
       "    </tr>\n",
       "  </tbody>\n",
       "</table>\n",
       "</div>"
      ],
      "text/plain": [
       "    NLP  issue  art_num                      title  \\\n",
       "0  2596   1215  art0089  The Cotton Factory Times.   \n",
       "1  2596   1215  art0005  The Cotton Factory Times.   \n",
       "\n",
       "                                     collection   full_date  year  month  day  \\\n",
       "0  British Library Living with Machines Project  1893-12-15  1893     12   15   \n",
       "1  British Library Living with Machines Project  1893-12-15  1893     12   15   \n",
       "\n",
       "                                  location  word_count  ocrquality  decade  \n",
       "0  Manchester, Greater Manchester, England           3      0.5533    1890  \n",
       "1  Manchester, Greater Manchester, England           7      0.5200    1890  "
      ]
     },
     "execution_count": 299,
     "metadata": {},
     "output_type": "execute_result"
    }
   ],
   "source": [
    "df_articles.head(2)"
   ]
  },
  {
   "cell_type": "code",
   "execution_count": 300,
   "metadata": {},
   "outputs": [
    {
     "data": {
      "text/html": [
       "<div>\n",
       "<style scoped>\n",
       "    .dataframe tbody tr th:only-of-type {\n",
       "        vertical-align: middle;\n",
       "    }\n",
       "\n",
       "    .dataframe tbody tr th {\n",
       "        vertical-align: top;\n",
       "    }\n",
       "\n",
       "    .dataframe thead th {\n",
       "        text-align: right;\n",
       "    }\n",
       "</style>\n",
       "<table border=\"1\" class=\"dataframe\">\n",
       "  <thead>\n",
       "    <tr style=\"text-align: right;\">\n",
       "      <th></th>\n",
       "      <th>NLP</th>\n",
       "      <th>issue</th>\n",
       "      <th>art_num</th>\n",
       "      <th>title</th>\n",
       "      <th>collection</th>\n",
       "      <th>full_date</th>\n",
       "      <th>year</th>\n",
       "      <th>month</th>\n",
       "      <th>day</th>\n",
       "      <th>location</th>\n",
       "      <th>word_count</th>\n",
       "      <th>ocrquality</th>\n",
       "      <th>decade</th>\n",
       "      <th>wikidata_id</th>\n",
       "      <th>S-PRICE</th>\n",
       "    </tr>\n",
       "  </thead>\n",
       "  <tbody>\n",
       "    <tr>\n",
       "      <th>0</th>\n",
       "      <td>2596</td>\n",
       "      <td>1215</td>\n",
       "      <td>art0089</td>\n",
       "      <td>The Cotton Factory Times.</td>\n",
       "      <td>British Library Living with Machines Project</td>\n",
       "      <td>1893-12-15</td>\n",
       "      <td>1893</td>\n",
       "      <td>12</td>\n",
       "      <td>15</td>\n",
       "      <td>Manchester, Greater Manchester, England</td>\n",
       "      <td>3</td>\n",
       "      <td>0.5533</td>\n",
       "      <td>1890</td>\n",
       "      <td>Q18125</td>\n",
       "      <td>1d</td>\n",
       "    </tr>\n",
       "    <tr>\n",
       "      <th>1</th>\n",
       "      <td>2596</td>\n",
       "      <td>1215</td>\n",
       "      <td>art0005</td>\n",
       "      <td>The Cotton Factory Times.</td>\n",
       "      <td>British Library Living with Machines Project</td>\n",
       "      <td>1893-12-15</td>\n",
       "      <td>1893</td>\n",
       "      <td>12</td>\n",
       "      <td>15</td>\n",
       "      <td>Manchester, Greater Manchester, England</td>\n",
       "      <td>7</td>\n",
       "      <td>0.5200</td>\n",
       "      <td>1890</td>\n",
       "      <td>Q18125</td>\n",
       "      <td>1d</td>\n",
       "    </tr>\n",
       "  </tbody>\n",
       "</table>\n",
       "</div>"
      ],
      "text/plain": [
       "    NLP  issue  art_num                      title  \\\n",
       "0  2596   1215  art0089  The Cotton Factory Times.   \n",
       "1  2596   1215  art0005  The Cotton Factory Times.   \n",
       "\n",
       "                                     collection   full_date  year  month  day  \\\n",
       "0  British Library Living with Machines Project  1893-12-15  1893     12   15   \n",
       "1  British Library Living with Machines Project  1893-12-15  1893     12   15   \n",
       "\n",
       "                                  location  word_count  ocrquality  decade  \\\n",
       "0  Manchester, Greater Manchester, England           3      0.5533    1890   \n",
       "1  Manchester, Greater Manchester, England           7      0.5200    1890   \n",
       "\n",
       "  wikidata_id S-PRICE  \n",
       "0      Q18125      1d  \n",
       "1      Q18125      1d  "
      ]
     },
     "execution_count": 300,
     "metadata": {},
     "output_type": "execute_result"
    }
   ],
   "source": [
    "df_articles.merge(df_MPD_links,how='left').head(2)"
   ]
  },
  {
   "attachments": {},
   "cell_type": "markdown",
   "metadata": {},
   "source": [
    "It automatically uses all common columns to merge the left df with the right. If we specify one column only, then the result is different:"
   ]
  },
  {
   "cell_type": "code",
   "execution_count": 301,
   "metadata": {},
   "outputs": [
    {
     "data": {
      "text/plain": [
       "(18809982, 16)"
      ]
     },
     "execution_count": 301,
     "metadata": {},
     "output_type": "execute_result"
    }
   ],
   "source": [
    "df_articles.merge(df_MPD_links,how='left',on='NLP').shape"
   ]
  },
  {
   "attachments": {},
   "cell_type": "markdown",
   "metadata": {},
   "source": [
    "This is because in `metadf` each `NLP`-`year` combination has a unique set of variables. If we remove `year` off the equation when merging, then pandas will consider `year` from each df as different variables and it will add all combinations of NLP-year from both datasets. Note that in that case, the `year` col will be automatically renamed as `year_x` (left df) and `year_y` (right df):"
   ]
  },
  {
   "cell_type": "code",
   "execution_count": 302,
   "metadata": {},
   "outputs": [
    {
     "data": {
      "text/html": [
       "<div>\n",
       "<style scoped>\n",
       "    .dataframe tbody tr th:only-of-type {\n",
       "        vertical-align: middle;\n",
       "    }\n",
       "\n",
       "    .dataframe tbody tr th {\n",
       "        vertical-align: top;\n",
       "    }\n",
       "\n",
       "    .dataframe thead th {\n",
       "        text-align: right;\n",
       "    }\n",
       "</style>\n",
       "<table border=\"1\" class=\"dataframe\">\n",
       "  <thead>\n",
       "    <tr style=\"text-align: right;\">\n",
       "      <th></th>\n",
       "      <th>NLP</th>\n",
       "      <th>issue</th>\n",
       "      <th>art_num</th>\n",
       "      <th>title</th>\n",
       "      <th>collection</th>\n",
       "      <th>full_date</th>\n",
       "      <th>year_x</th>\n",
       "      <th>month</th>\n",
       "      <th>day</th>\n",
       "      <th>location</th>\n",
       "      <th>word_count</th>\n",
       "      <th>ocrquality</th>\n",
       "      <th>decade</th>\n",
       "      <th>year_y</th>\n",
       "      <th>wikidata_id</th>\n",
       "      <th>S-PRICE</th>\n",
       "    </tr>\n",
       "  </thead>\n",
       "  <tbody>\n",
       "    <tr>\n",
       "      <th>0</th>\n",
       "      <td>2596</td>\n",
       "      <td>1215</td>\n",
       "      <td>art0089</td>\n",
       "      <td>The Cotton Factory Times.</td>\n",
       "      <td>British Library Living with Machines Project</td>\n",
       "      <td>1893-12-15</td>\n",
       "      <td>1893</td>\n",
       "      <td>12</td>\n",
       "      <td>15</td>\n",
       "      <td>Manchester, Greater Manchester, England</td>\n",
       "      <td>3</td>\n",
       "      <td>0.5533</td>\n",
       "      <td>1890</td>\n",
       "      <td>1886.0</td>\n",
       "      <td>Q18125</td>\n",
       "      <td>1d</td>\n",
       "    </tr>\n",
       "    <tr>\n",
       "      <th>1</th>\n",
       "      <td>2596</td>\n",
       "      <td>1215</td>\n",
       "      <td>art0089</td>\n",
       "      <td>The Cotton Factory Times.</td>\n",
       "      <td>British Library Living with Machines Project</td>\n",
       "      <td>1893-12-15</td>\n",
       "      <td>1893</td>\n",
       "      <td>12</td>\n",
       "      <td>15</td>\n",
       "      <td>Manchester, Greater Manchester, England</td>\n",
       "      <td>3</td>\n",
       "      <td>0.5533</td>\n",
       "      <td>1890</td>\n",
       "      <td>1888.0</td>\n",
       "      <td>Q18125</td>\n",
       "      <td>1d</td>\n",
       "    </tr>\n",
       "  </tbody>\n",
       "</table>\n",
       "</div>"
      ],
      "text/plain": [
       "    NLP  issue  art_num                      title  \\\n",
       "0  2596   1215  art0089  The Cotton Factory Times.   \n",
       "1  2596   1215  art0089  The Cotton Factory Times.   \n",
       "\n",
       "                                     collection   full_date  year_x  month  \\\n",
       "0  British Library Living with Machines Project  1893-12-15    1893     12   \n",
       "1  British Library Living with Machines Project  1893-12-15    1893     12   \n",
       "\n",
       "   day                                 location  word_count  ocrquality  \\\n",
       "0   15  Manchester, Greater Manchester, England           3      0.5533   \n",
       "1   15  Manchester, Greater Manchester, England           3      0.5533   \n",
       "\n",
       "   decade  year_y wikidata_id S-PRICE  \n",
       "0    1890  1886.0      Q18125      1d  \n",
       "1    1890  1888.0      Q18125      1d  "
      ]
     },
     "execution_count": 302,
     "metadata": {},
     "output_type": "execute_result"
    }
   ],
   "source": [
    "df_articles.merge(df_MPD_links,how='left',on='NLP').head(2)"
   ]
  },
  {
   "attachments": {},
   "cell_type": "markdown",
   "metadata": {},
   "source": [
    "Inner merge will get you the intersection between the two dfs based on the common columns:"
   ]
  },
  {
   "cell_type": "code",
   "execution_count": 303,
   "metadata": {},
   "outputs": [
    {
     "data": {
      "text/plain": [
       "(1132863, 15)"
      ]
     },
     "execution_count": 303,
     "metadata": {},
     "output_type": "execute_result"
    }
   ],
   "source": [
    "pd.merge(right=df_articles, left=df_MPD_links, how=\"inner\").shape\n",
    "# also equivalent:\n",
    "# df_articles.merge(df_MPD_links,how=\"inner\")"
   ]
  },
  {
   "attachments": {},
   "cell_type": "markdown",
   "metadata": {},
   "source": [
    "Let's play around with the inner-merged df..."
   ]
  },
  {
   "cell_type": "code",
   "execution_count": 304,
   "metadata": {},
   "outputs": [
    {
     "data": {
      "text/html": [
       "<div>\n",
       "<style scoped>\n",
       "    .dataframe tbody tr th:only-of-type {\n",
       "        vertical-align: middle;\n",
       "    }\n",
       "\n",
       "    .dataframe tbody tr th {\n",
       "        vertical-align: top;\n",
       "    }\n",
       "\n",
       "    .dataframe thead th {\n",
       "        text-align: right;\n",
       "    }\n",
       "</style>\n",
       "<table border=\"1\" class=\"dataframe\">\n",
       "  <thead>\n",
       "    <tr style=\"text-align: right;\">\n",
       "      <th></th>\n",
       "      <th>NLP</th>\n",
       "      <th>year</th>\n",
       "      <th>wikidata_id</th>\n",
       "      <th>S-PRICE</th>\n",
       "      <th>issue</th>\n",
       "      <th>art_num</th>\n",
       "      <th>title</th>\n",
       "      <th>collection</th>\n",
       "      <th>full_date</th>\n",
       "      <th>month</th>\n",
       "      <th>day</th>\n",
       "      <th>location</th>\n",
       "      <th>word_count</th>\n",
       "      <th>ocrquality</th>\n",
       "      <th>decade</th>\n",
       "    </tr>\n",
       "  </thead>\n",
       "  <tbody>\n",
       "    <tr>\n",
       "      <th>0</th>\n",
       "      <td>3040</td>\n",
       "      <td>1880</td>\n",
       "      <td>Q746718</td>\n",
       "      <td>1d</td>\n",
       "      <td>320</td>\n",
       "      <td>art0038</td>\n",
       "      <td>The Birkenhead News and Wirral General Adverti...</td>\n",
       "      <td>British Library Living with Machines Project</td>\n",
       "      <td>1880-03-20</td>\n",
       "      <td>3</td>\n",
       "      <td>20</td>\n",
       "      <td>Birkenhead, Merseyside, England</td>\n",
       "      <td>3</td>\n",
       "      <td>0.3000</td>\n",
       "      <td>1880</td>\n",
       "    </tr>\n",
       "    <tr>\n",
       "      <th>1</th>\n",
       "      <td>3040</td>\n",
       "      <td>1880</td>\n",
       "      <td>Q746718</td>\n",
       "      <td>1d</td>\n",
       "      <td>320</td>\n",
       "      <td>art0025</td>\n",
       "      <td>The Birkenhead News and Wirral General Adverti...</td>\n",
       "      <td>British Library Living with Machines Project</td>\n",
       "      <td>1880-03-20</td>\n",
       "      <td>3</td>\n",
       "      <td>20</td>\n",
       "      <td>Birkenhead, Merseyside, England</td>\n",
       "      <td>79</td>\n",
       "      <td>0.7615</td>\n",
       "      <td>1880</td>\n",
       "    </tr>\n",
       "  </tbody>\n",
       "</table>\n",
       "</div>"
      ],
      "text/plain": [
       "    NLP  year wikidata_id S-PRICE  issue  art_num  \\\n",
       "0  3040  1880     Q746718      1d    320  art0038   \n",
       "1  3040  1880     Q746718      1d    320  art0025   \n",
       "\n",
       "                                               title  \\\n",
       "0  The Birkenhead News and Wirral General Adverti...   \n",
       "1  The Birkenhead News and Wirral General Adverti...   \n",
       "\n",
       "                                     collection   full_date  month  day  \\\n",
       "0  British Library Living with Machines Project  1880-03-20      3   20   \n",
       "1  British Library Living with Machines Project  1880-03-20      3   20   \n",
       "\n",
       "                          location  word_count  ocrquality  decade  \n",
       "0  Birkenhead, Merseyside, England           3      0.3000    1880  \n",
       "1  Birkenhead, Merseyside, England          79      0.7615    1880  "
      ]
     },
     "execution_count": 304,
     "metadata": {},
     "output_type": "execute_result"
    }
   ],
   "source": [
    "articlesdf_merged_inner = pd.merge(right=df_articles, left=df_MPD_links, how=\"inner\")\n",
    "articlesdf_merged_inner.head(2)"
   ]
  },
  {
   "attachments": {},
   "cell_type": "markdown",
   "metadata": {},
   "source": [
    "If we wanted to use a subset column-wise:"
   ]
  },
  {
   "cell_type": "code",
   "execution_count": 306,
   "metadata": {},
   "outputs": [
    {
     "data": {
      "text/html": [
       "<div>\n",
       "<style scoped>\n",
       "    .dataframe tbody tr th:only-of-type {\n",
       "        vertical-align: middle;\n",
       "    }\n",
       "\n",
       "    .dataframe tbody tr th {\n",
       "        vertical-align: top;\n",
       "    }\n",
       "\n",
       "    .dataframe thead th {\n",
       "        text-align: right;\n",
       "    }\n",
       "</style>\n",
       "<table border=\"1\" class=\"dataframe\">\n",
       "  <thead>\n",
       "    <tr style=\"text-align: right;\">\n",
       "      <th></th>\n",
       "      <th>NLP</th>\n",
       "      <th>year</th>\n",
       "      <th>location</th>\n",
       "      <th>wikidata_id</th>\n",
       "      <th>S-PRICE</th>\n",
       "    </tr>\n",
       "  </thead>\n",
       "  <tbody>\n",
       "    <tr>\n",
       "      <th>1132861</th>\n",
       "      <td>2982</td>\n",
       "      <td>1900</td>\n",
       "      <td>Weymouth, Dorset, England</td>\n",
       "      <td>Q550110</td>\n",
       "      <td>½ d&lt;SEP&gt;1d</td>\n",
       "    </tr>\n",
       "    <tr>\n",
       "      <th>1132862</th>\n",
       "      <td>2982</td>\n",
       "      <td>1900</td>\n",
       "      <td>Weymouth, Dorset, England</td>\n",
       "      <td>Q550110</td>\n",
       "      <td>½ d&lt;SEP&gt;1d</td>\n",
       "    </tr>\n",
       "  </tbody>\n",
       "</table>\n",
       "</div>"
      ],
      "text/plain": [
       "          NLP  year                   location wikidata_id     S-PRICE\n",
       "1132861  2982  1900  Weymouth, Dorset, England     Q550110  ½ d<SEP>1d\n",
       "1132862  2982  1900  Weymouth, Dorset, England     Q550110  ½ d<SEP>1d"
      ]
     },
     "execution_count": 306,
     "metadata": {},
     "output_type": "execute_result"
    }
   ],
   "source": [
    "articlesdf_merged_inner = articlesdf_merged_inner[[\"NLP\",\"year\",\"location\",\"wikidata_id\",\"S-PRICE\"]]\n",
    "articlesdf_merged_inner.tail(2)"
   ]
  },
  {
   "attachments": {},
   "cell_type": "markdown",
   "metadata": {},
   "source": [
    "Let's check which years are available:"
   ]
  },
  {
   "cell_type": "code",
   "execution_count": 307,
   "metadata": {},
   "outputs": [
    {
     "data": {
      "text/plain": [
       "year\n",
       "1893    141805\n",
       "1891     98059\n",
       "1883     95832\n",
       "1895     86480\n",
       "1889     83963\n",
       "1890     83641\n",
       "1888     79652\n",
       "1885     75535\n",
       "1898     74464\n",
       "1881     74281\n",
       "1886     72286\n",
       "1880     71495\n",
       "1900     55249\n",
       "1896     40121\n",
       "Name: count, dtype: int64"
      ]
     },
     "execution_count": 307,
     "metadata": {},
     "output_type": "execute_result"
    }
   ],
   "source": [
    "articlesdf_merged_inner['year'].value_counts()"
   ]
  },
  {
   "attachments": {},
   "cell_type": "markdown",
   "metadata": {},
   "source": [
    "The counts itself could be turned into a df if useful:"
   ]
  },
  {
   "cell_type": "code",
   "execution_count": 308,
   "metadata": {},
   "outputs": [
    {
     "data": {
      "text/html": [
       "<div>\n",
       "<style scoped>\n",
       "    .dataframe tbody tr th:only-of-type {\n",
       "        vertical-align: middle;\n",
       "    }\n",
       "\n",
       "    .dataframe tbody tr th {\n",
       "        vertical-align: top;\n",
       "    }\n",
       "\n",
       "    .dataframe thead th {\n",
       "        text-align: right;\n",
       "    }\n",
       "</style>\n",
       "<table border=\"1\" class=\"dataframe\">\n",
       "  <thead>\n",
       "    <tr style=\"text-align: right;\">\n",
       "      <th></th>\n",
       "      <th>year</th>\n",
       "      <th>count</th>\n",
       "    </tr>\n",
       "  </thead>\n",
       "  <tbody>\n",
       "    <tr>\n",
       "      <th>0</th>\n",
       "      <td>1893</td>\n",
       "      <td>141805</td>\n",
       "    </tr>\n",
       "    <tr>\n",
       "      <th>1</th>\n",
       "      <td>1891</td>\n",
       "      <td>98059</td>\n",
       "    </tr>\n",
       "    <tr>\n",
       "      <th>2</th>\n",
       "      <td>1883</td>\n",
       "      <td>95832</td>\n",
       "    </tr>\n",
       "    <tr>\n",
       "      <th>3</th>\n",
       "      <td>1895</td>\n",
       "      <td>86480</td>\n",
       "    </tr>\n",
       "    <tr>\n",
       "      <th>4</th>\n",
       "      <td>1889</td>\n",
       "      <td>83963</td>\n",
       "    </tr>\n",
       "    <tr>\n",
       "      <th>5</th>\n",
       "      <td>1890</td>\n",
       "      <td>83641</td>\n",
       "    </tr>\n",
       "    <tr>\n",
       "      <th>6</th>\n",
       "      <td>1888</td>\n",
       "      <td>79652</td>\n",
       "    </tr>\n",
       "    <tr>\n",
       "      <th>7</th>\n",
       "      <td>1885</td>\n",
       "      <td>75535</td>\n",
       "    </tr>\n",
       "    <tr>\n",
       "      <th>8</th>\n",
       "      <td>1898</td>\n",
       "      <td>74464</td>\n",
       "    </tr>\n",
       "    <tr>\n",
       "      <th>9</th>\n",
       "      <td>1881</td>\n",
       "      <td>74281</td>\n",
       "    </tr>\n",
       "    <tr>\n",
       "      <th>10</th>\n",
       "      <td>1886</td>\n",
       "      <td>72286</td>\n",
       "    </tr>\n",
       "    <tr>\n",
       "      <th>11</th>\n",
       "      <td>1880</td>\n",
       "      <td>71495</td>\n",
       "    </tr>\n",
       "    <tr>\n",
       "      <th>12</th>\n",
       "      <td>1900</td>\n",
       "      <td>55249</td>\n",
       "    </tr>\n",
       "    <tr>\n",
       "      <th>13</th>\n",
       "      <td>1896</td>\n",
       "      <td>40121</td>\n",
       "    </tr>\n",
       "  </tbody>\n",
       "</table>\n",
       "</div>"
      ],
      "text/plain": [
       "    year   count\n",
       "0   1893  141805\n",
       "1   1891   98059\n",
       "2   1883   95832\n",
       "3   1895   86480\n",
       "4   1889   83963\n",
       "5   1890   83641\n",
       "6   1888   79652\n",
       "7   1885   75535\n",
       "8   1898   74464\n",
       "9   1881   74281\n",
       "10  1886   72286\n",
       "11  1880   71495\n",
       "12  1900   55249\n",
       "13  1896   40121"
      ]
     },
     "execution_count": 308,
     "metadata": {},
     "output_type": "execute_result"
    }
   ],
   "source": [
    "yearcounts = pd.DataFrame(articlesdf_merged_inner['year'].value_counts()).reset_index()\n",
    "yearcounts"
   ]
  },
  {
   "attachments": {},
   "cell_type": "markdown",
   "metadata": {},
   "source": [
    "... and exported as csv if needed:"
   ]
  },
  {
   "cell_type": "code",
   "execution_count": 125,
   "metadata": {},
   "outputs": [],
   "source": [
    "# yearcounts.to_csv(os.path.join(root_folder,\"LwM-HMD-articles.csv\",index=False))"
   ]
  },
  {
   "attachments": {},
   "cell_type": "markdown",
   "metadata": {},
   "source": [
    "We may want to analyse articles from a specific year:"
   ]
  },
  {
   "cell_type": "code",
   "execution_count": 309,
   "metadata": {},
   "outputs": [
    {
     "data": {
      "text/html": [
       "<div>\n",
       "<style scoped>\n",
       "    .dataframe tbody tr th:only-of-type {\n",
       "        vertical-align: middle;\n",
       "    }\n",
       "\n",
       "    .dataframe tbody tr th {\n",
       "        vertical-align: top;\n",
       "    }\n",
       "\n",
       "    .dataframe thead th {\n",
       "        text-align: right;\n",
       "    }\n",
       "</style>\n",
       "<table border=\"1\" class=\"dataframe\">\n",
       "  <thead>\n",
       "    <tr style=\"text-align: right;\">\n",
       "      <th></th>\n",
       "      <th>NLP</th>\n",
       "      <th>year</th>\n",
       "      <th>location</th>\n",
       "      <th>wikidata_id</th>\n",
       "      <th>S-PRICE</th>\n",
       "    </tr>\n",
       "  </thead>\n",
       "  <tbody>\n",
       "    <tr>\n",
       "      <th>241608</th>\n",
       "      <td>3045</td>\n",
       "      <td>1885</td>\n",
       "      <td>Atherstone, Warwickshire, England</td>\n",
       "      <td>Q747778</td>\n",
       "      <td>1d</td>\n",
       "    </tr>\n",
       "    <tr>\n",
       "      <th>241609</th>\n",
       "      <td>3045</td>\n",
       "      <td>1885</td>\n",
       "      <td>Atherstone, Warwickshire, England</td>\n",
       "      <td>Q747778</td>\n",
       "      <td>1d</td>\n",
       "    </tr>\n",
       "    <tr>\n",
       "      <th>241610</th>\n",
       "      <td>3045</td>\n",
       "      <td>1885</td>\n",
       "      <td>Atherstone, Warwickshire, England</td>\n",
       "      <td>Q747778</td>\n",
       "      <td>1d</td>\n",
       "    </tr>\n",
       "    <tr>\n",
       "      <th>241611</th>\n",
       "      <td>3045</td>\n",
       "      <td>1885</td>\n",
       "      <td>Atherstone, Warwickshire, England</td>\n",
       "      <td>Q747778</td>\n",
       "      <td>1d</td>\n",
       "    </tr>\n",
       "    <tr>\n",
       "      <th>241612</th>\n",
       "      <td>3045</td>\n",
       "      <td>1885</td>\n",
       "      <td>Atherstone, Warwickshire, England</td>\n",
       "      <td>Q747778</td>\n",
       "      <td>1d</td>\n",
       "    </tr>\n",
       "  </tbody>\n",
       "</table>\n",
       "</div>"
      ],
      "text/plain": [
       "         NLP  year                           location wikidata_id S-PRICE\n",
       "241608  3045  1885  Atherstone, Warwickshire, England     Q747778      1d\n",
       "241609  3045  1885  Atherstone, Warwickshire, England     Q747778      1d\n",
       "241610  3045  1885  Atherstone, Warwickshire, England     Q747778      1d\n",
       "241611  3045  1885  Atherstone, Warwickshire, England     Q747778      1d\n",
       "241612  3045  1885  Atherstone, Warwickshire, England     Q747778      1d"
      ]
     },
     "execution_count": 309,
     "metadata": {},
     "output_type": "execute_result"
    }
   ],
   "source": [
    "articlesdf_merged_inner[articlesdf_merged_inner['year'] == 1885].head()"
   ]
  },
  {
   "attachments": {},
   "cell_type": "markdown",
   "metadata": {},
   "source": [
    "... or in all but one year:"
   ]
  },
  {
   "cell_type": "code",
   "execution_count": 310,
   "metadata": {},
   "outputs": [
    {
     "data": {
      "text/html": [
       "<div>\n",
       "<style scoped>\n",
       "    .dataframe tbody tr th:only-of-type {\n",
       "        vertical-align: middle;\n",
       "    }\n",
       "\n",
       "    .dataframe tbody tr th {\n",
       "        vertical-align: top;\n",
       "    }\n",
       "\n",
       "    .dataframe thead th {\n",
       "        text-align: right;\n",
       "    }\n",
       "</style>\n",
       "<table border=\"1\" class=\"dataframe\">\n",
       "  <thead>\n",
       "    <tr style=\"text-align: right;\">\n",
       "      <th></th>\n",
       "      <th>NLP</th>\n",
       "      <th>year</th>\n",
       "      <th>location</th>\n",
       "      <th>wikidata_id</th>\n",
       "      <th>S-PRICE</th>\n",
       "    </tr>\n",
       "  </thead>\n",
       "  <tbody>\n",
       "    <tr>\n",
       "      <th>0</th>\n",
       "      <td>3040</td>\n",
       "      <td>1880</td>\n",
       "      <td>Birkenhead, Merseyside, England</td>\n",
       "      <td>Q746718</td>\n",
       "      <td>1d</td>\n",
       "    </tr>\n",
       "    <tr>\n",
       "      <th>1</th>\n",
       "      <td>3040</td>\n",
       "      <td>1880</td>\n",
       "      <td>Birkenhead, Merseyside, England</td>\n",
       "      <td>Q746718</td>\n",
       "      <td>1d</td>\n",
       "    </tr>\n",
       "    <tr>\n",
       "      <th>2</th>\n",
       "      <td>3040</td>\n",
       "      <td>1880</td>\n",
       "      <td>Birkenhead, Merseyside, England</td>\n",
       "      <td>Q746718</td>\n",
       "      <td>1d</td>\n",
       "    </tr>\n",
       "    <tr>\n",
       "      <th>3</th>\n",
       "      <td>3040</td>\n",
       "      <td>1880</td>\n",
       "      <td>Birkenhead, Merseyside, England</td>\n",
       "      <td>Q746718</td>\n",
       "      <td>1d</td>\n",
       "    </tr>\n",
       "    <tr>\n",
       "      <th>4</th>\n",
       "      <td>3040</td>\n",
       "      <td>1880</td>\n",
       "      <td>Birkenhead, Merseyside, England</td>\n",
       "      <td>Q746718</td>\n",
       "      <td>1d</td>\n",
       "    </tr>\n",
       "  </tbody>\n",
       "</table>\n",
       "</div>"
      ],
      "text/plain": [
       "    NLP  year                         location wikidata_id S-PRICE\n",
       "0  3040  1880  Birkenhead, Merseyside, England     Q746718      1d\n",
       "1  3040  1880  Birkenhead, Merseyside, England     Q746718      1d\n",
       "2  3040  1880  Birkenhead, Merseyside, England     Q746718      1d\n",
       "3  3040  1880  Birkenhead, Merseyside, England     Q746718      1d\n",
       "4  3040  1880  Birkenhead, Merseyside, England     Q746718      1d"
      ]
     },
     "execution_count": 310,
     "metadata": {},
     "output_type": "execute_result"
    }
   ],
   "source": [
    "articlesdf_merged_inner[articlesdf_merged_inner['year'] != 1885].head()"
   ]
  },
  {
   "attachments": {},
   "cell_type": "markdown",
   "metadata": {},
   "source": [
    "You may want to make sure that the df has no NaN in one specific column or across the df. Check if that's the case:"
   ]
  },
  {
   "cell_type": "code",
   "execution_count": 311,
   "metadata": {},
   "outputs": [
    {
     "name": "stdout",
     "output_type": "stream",
     "text": [
      "(1132863, 5)\n",
      "(1125286, 5)\n"
     ]
    }
   ],
   "source": [
    "print(articlesdf_merged_inner.shape)\n",
    "print(articlesdf_merged_inner[~articlesdf_merged_inner[\"location\"].isna()].shape)"
   ]
  },
  {
   "attachments": {},
   "cell_type": "markdown",
   "metadata": {},
   "source": [
    "As you can see, the df without rows in which the column `location` is NaN has fewer rows. You can remove the rows if needed:"
   ]
  },
  {
   "cell_type": "code",
   "execution_count": 312,
   "metadata": {},
   "outputs": [],
   "source": [
    "articlesdf_merged_inner = articlesdf_merged_inner[~articlesdf_merged_inner[\"location\"].isna()]"
   ]
  },
  {
   "attachments": {},
   "cell_type": "markdown",
   "metadata": {},
   "source": [
    "or equally:"
   ]
  },
  {
   "cell_type": "code",
   "execution_count": 313,
   "metadata": {},
   "outputs": [],
   "source": [
    "articlesdf_merged_inner.dropna(subset=['location'],inplace=True)"
   ]
  },
  {
   "attachments": {},
   "cell_type": "markdown",
   "metadata": {},
   "source": [
    "Without adding a `subset` it would remove all rows in which at least one column is NaN. In highly sparse datasets, you may end up with no rows... so careful."
   ]
  },
  {
   "attachments": {},
   "cell_type": "markdown",
   "metadata": {},
   "source": [
    "**⏰ ✏️ Excercise**:\n",
    "\n",
    "* Using the most suitable type of merging, create a df starting from `df_articles` and adding any column not present there from `df_MPD_links` and `df_wikiid_latlong`. Make sure that the final dataframe has the same number of rows as `df_articles`!\n",
    "* Which is the most represented `location` in the dataframe?"
   ]
  },
  {
   "cell_type": "code",
   "execution_count": null,
   "metadata": {},
   "outputs": [],
   "source": [
    "### Write your solution here"
   ]
  },
  {
   "attachments": {},
   "cell_type": "markdown",
   "metadata": {},
   "source": [
    "## Pivoting\n",
    "\n",
    "This is bonus content!\n",
    "\n",
    "For more (including stacking with multi-indexes and unpivoting or melting), see https://pandas.pydata.org/pandas-docs/stable/user_guide/reshaping.html"
   ]
  },
  {
   "cell_type": "code",
   "execution_count": 314,
   "metadata": {},
   "outputs": [],
   "source": [
    "data = {'place': [\"London\",\"London\",\"Berlin\",\"Berlin\",\"Rome\",\"Rome\"],\n",
    "       'year': [1800, 1900, 1800, 1900, 1800, 1900],\n",
    "       'values': [10,20,30,40,50,60]}\n",
    "toy_df = pd.DataFrame(data, columns=['place','year','values'])"
   ]
  },
  {
   "cell_type": "code",
   "execution_count": 315,
   "metadata": {},
   "outputs": [
    {
     "data": {
      "text/html": [
       "<div>\n",
       "<style scoped>\n",
       "    .dataframe tbody tr th:only-of-type {\n",
       "        vertical-align: middle;\n",
       "    }\n",
       "\n",
       "    .dataframe tbody tr th {\n",
       "        vertical-align: top;\n",
       "    }\n",
       "\n",
       "    .dataframe thead th {\n",
       "        text-align: right;\n",
       "    }\n",
       "</style>\n",
       "<table border=\"1\" class=\"dataframe\">\n",
       "  <thead>\n",
       "    <tr style=\"text-align: right;\">\n",
       "      <th></th>\n",
       "      <th>place</th>\n",
       "      <th>year</th>\n",
       "      <th>values</th>\n",
       "    </tr>\n",
       "  </thead>\n",
       "  <tbody>\n",
       "    <tr>\n",
       "      <th>0</th>\n",
       "      <td>London</td>\n",
       "      <td>1800</td>\n",
       "      <td>10</td>\n",
       "    </tr>\n",
       "    <tr>\n",
       "      <th>1</th>\n",
       "      <td>London</td>\n",
       "      <td>1900</td>\n",
       "      <td>20</td>\n",
       "    </tr>\n",
       "    <tr>\n",
       "      <th>2</th>\n",
       "      <td>Berlin</td>\n",
       "      <td>1800</td>\n",
       "      <td>30</td>\n",
       "    </tr>\n",
       "    <tr>\n",
       "      <th>3</th>\n",
       "      <td>Berlin</td>\n",
       "      <td>1900</td>\n",
       "      <td>40</td>\n",
       "    </tr>\n",
       "    <tr>\n",
       "      <th>4</th>\n",
       "      <td>Rome</td>\n",
       "      <td>1800</td>\n",
       "      <td>50</td>\n",
       "    </tr>\n",
       "    <tr>\n",
       "      <th>5</th>\n",
       "      <td>Rome</td>\n",
       "      <td>1900</td>\n",
       "      <td>60</td>\n",
       "    </tr>\n",
       "  </tbody>\n",
       "</table>\n",
       "</div>"
      ],
      "text/plain": [
       "    place  year  values\n",
       "0  London  1800      10\n",
       "1  London  1900      20\n",
       "2  Berlin  1800      30\n",
       "3  Berlin  1900      40\n",
       "4    Rome  1800      50\n",
       "5    Rome  1900      60"
      ]
     },
     "execution_count": 315,
     "metadata": {},
     "output_type": "execute_result"
    }
   ],
   "source": [
    "toy_df"
   ]
  },
  {
   "cell_type": "code",
   "execution_count": 316,
   "metadata": {},
   "outputs": [],
   "source": [
    "pivoted = toy_df.pivot(index='year', columns='place', values='values')"
   ]
  },
  {
   "cell_type": "code",
   "execution_count": 317,
   "metadata": {},
   "outputs": [
    {
     "data": {
      "text/html": [
       "<div>\n",
       "<style scoped>\n",
       "    .dataframe tbody tr th:only-of-type {\n",
       "        vertical-align: middle;\n",
       "    }\n",
       "\n",
       "    .dataframe tbody tr th {\n",
       "        vertical-align: top;\n",
       "    }\n",
       "\n",
       "    .dataframe thead th {\n",
       "        text-align: right;\n",
       "    }\n",
       "</style>\n",
       "<table border=\"1\" class=\"dataframe\">\n",
       "  <thead>\n",
       "    <tr style=\"text-align: right;\">\n",
       "      <th>place</th>\n",
       "      <th>Berlin</th>\n",
       "      <th>London</th>\n",
       "      <th>Rome</th>\n",
       "    </tr>\n",
       "    <tr>\n",
       "      <th>year</th>\n",
       "      <th></th>\n",
       "      <th></th>\n",
       "      <th></th>\n",
       "    </tr>\n",
       "  </thead>\n",
       "  <tbody>\n",
       "    <tr>\n",
       "      <th>1800</th>\n",
       "      <td>30</td>\n",
       "      <td>10</td>\n",
       "      <td>50</td>\n",
       "    </tr>\n",
       "    <tr>\n",
       "      <th>1900</th>\n",
       "      <td>40</td>\n",
       "      <td>20</td>\n",
       "      <td>60</td>\n",
       "    </tr>\n",
       "  </tbody>\n",
       "</table>\n",
       "</div>"
      ],
      "text/plain": [
       "place  Berlin  London  Rome\n",
       "year                       \n",
       "1800       30      10    50\n",
       "1900       40      20    60"
      ]
     },
     "execution_count": 317,
     "metadata": {},
     "output_type": "execute_result"
    }
   ],
   "source": [
    "pivoted"
   ]
  }
 ],
 "metadata": {
  "kernelspec": {
   "display_name": "Python 3 (ipykernel)",
   "language": "python",
   "name": "python3"
  },
  "language_info": {
   "codemirror_mode": {
    "name": "ipython",
    "version": 3
   },
   "file_extension": ".py",
   "mimetype": "text/x-python",
   "name": "python",
   "nbconvert_exporter": "python",
   "pygments_lexer": "ipython3",
   "version": "3.10.3"
  }
 },
 "nbformat": 4,
 "nbformat_minor": 4
}
